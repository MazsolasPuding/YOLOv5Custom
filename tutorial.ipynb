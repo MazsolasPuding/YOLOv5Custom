{
  "cells": [
    {
      "cell_type": "markdown",
      "metadata": {
        "id": "t6MPjfT5NrKQ"
      },
      "source": [
        "<div align=\"center\">\n",
        "\n",
        "  <a href=\"https://ultralytics.com/yolov5\" target=\"_blank\">\n",
        "    <img width=\"1024\", src=\"https://raw.githubusercontent.com/ultralytics/assets/main/yolov5/v70/splash.png\"></a>\n",
        "\n",
        "[中文](https://docs.ultralytics.com/zh/) | [한국어](https://docs.ultralytics.com/ko/) | [日本語](https://docs.ultralytics.com/ja/) | [Русский](https://docs.ultralytics.com/ru/) | [Deutsch](https://docs.ultralytics.com/de/) | [Français](https://docs.ultralytics.com/fr/) | [Español](https://docs.ultralytics.com/es/) | [Português](https://docs.ultralytics.com/pt/) | [हिन्दी](https://docs.ultralytics.com/hi/) | [العربية](https://docs.ultralytics.com/ar/)\n",
        "\n",
        "  <a href=\"https://bit.ly/yolov5-paperspace-notebook\"><img src=\"https://assets.paperspace.io/img/gradient-badge.svg\" alt=\"Run on Gradient\"></a>\n",
        "  <a href=\"https://colab.research.google.com/github/ultralytics/yolov5/blob/master/tutorial.ipynb\"><img src=\"https://colab.research.google.com/assets/colab-badge.svg\" alt=\"Open In Colab\"></a>\n",
        "  <a href=\"https://www.kaggle.com/ultralytics/yolov5\"><img src=\"https://kaggle.com/static/images/open-in-kaggle.svg\" alt=\"Open In Kaggle\"></a>\n",
        "\n",
        "This <a href=\"https://github.com/ultralytics/yolov5\">YOLOv5</a> 🚀 notebook by <a href=\"https://ultralytics.com\">Ultralytics</a> presents simple train, validate and predict examples to help start your AI adventure.<br>We hope that the resources in this notebook will help you get the most out of YOLOv5. Please browse the YOLOv5 <a href=\"https://docs.ultralytics.com/yolov5\">Docs</a> for details, raise an issue on <a href=\"https://github.com/ultralytics/yolov5\">GitHub</a> for support, and join our <a href=\"https://ultralytics.com/discord\">Discord</a> community for questions and discussions!\n",
        "\n",
        "</div>"
      ]
    },
    {
      "cell_type": "markdown",
      "metadata": {
        "id": "7mGmQbAO5pQb"
      },
      "source": [
        "# Setup\n",
        "\n",
        "Clone GitHub [repository](https://github.com/ultralytics/yolov5), install [dependencies](https://github.com/ultralytics/yolov5/blob/master/requirements.txt) and check PyTorch and GPU."
      ]
    },
    {
      "cell_type": "code",
      "execution_count": 2,
      "metadata": {
        "colab": {
          "base_uri": "https://localhost:8080/"
        },
        "id": "wbvMlHd_QwMG",
        "outputId": "e8225db4-e61d-4640-8b1f-8bfce3331cea"
      },
      "outputs": [
        {
          "name": "stderr",
          "output_type": "stream",
          "text": [
            "YOLOv5  v7.0-287-g574331f9 Python-3.10.13 torch-2.1.1 CUDA:0 (NVIDIA GeForce GTX 1660 Ti, 6144MiB)\n"
          ]
        },
        {
          "name": "stdout",
          "output_type": "stream",
          "text": [
            "Setup complete  (16 CPUs, 15.4 GB RAM, 518.9/1907.7 GB disk)\n"
          ]
        }
      ],
      "source": [
        "!git clone https://github.com/ultralytics/yolov5  # clone\n",
        "%cd yolov5\n",
        "%pip install -qr requirements.txt comet_ml  # install\n",
        "\n",
        "import torch\n",
        "import utils\n",
        "display = utils.notebook_init()  # checks"
      ]
    },
    {
      "cell_type": "markdown",
      "metadata": {
        "id": "4JnkELT0cIJg"
      },
      "source": [
        "# 1. Detect\n",
        "\n",
        "`detect.py` runs YOLOv5 inference on a variety of sources, downloading models automatically from the [latest YOLOv5 release](https://github.com/ultralytics/yolov5/releases), and saving results to `runs/detect`. Example inference sources are:\n",
        "\n",
        "```shell\n",
        "python detect.py --source 0  # webcam\n",
        "                          img.jpg  # image\n",
        "                          vid.mp4  # video\n",
        "                          screen  # screenshot\n",
        "                          path/  # directory\n",
        "                         'path/*.jpg'  # glob\n",
        "                         'https://youtu.be/LNwODJXcvt4'  # YouTube\n",
        "                         'rtsp://example.com/media.mp4'  # RTSP, RTMP, HTTP stream\n",
        "```"
      ]
    },
    {
      "cell_type": "code",
      "execution_count": 3,
      "metadata": {
        "colab": {
          "base_uri": "https://localhost:8080/"
        },
        "id": "zR9ZbuQCH7FX",
        "outputId": "284ef04b-1596-412f-88f6-948828dd2b49"
      },
      "outputs": [
        {
          "name": "stdout",
          "output_type": "stream",
          "text": [
            "\u001b[31m\u001b[1mrequirements:\u001b[0m Ultralytics requirement ['gitpython>=3.1.30'] not found, attempting AutoUpdate...\n",
            "Collecting gitpython>=3.1.30\n",
            "\n",
            "  Obtaining dependency information for gitpython>=3.1.30 from https://files.pythonhosted.org/packages/67/c7/995360c87dd74e27539ccbfecddfb58e08f140d849fcd7f35d2ed1a5f80f/GitPython-3.1.42-py3-none-any.whl.metadata\n",
            "\n",
            "  Downloading GitPython-3.1.42-py3-none-any.whl.metadata (12 kB)\n",
            "\n",
            "Collecting gitdb<5,>=4.0.1 (from gitpython>=3.1.30)\n",
            "\n",
            "  Obtaining dependency information for gitdb<5,>=4.0.1 from https://files.pythonhosted.org/packages/fd/5b/8f0c4a5bb9fd491c277c21eff7ccae71b47d43c4446c9d0c6cff2fe8c2c4/gitdb-4.0.11-py3-none-any.whl.metadata\n",
            "\n",
            "  Downloading gitdb-4.0.11-py3-none-any.whl.metadata (1.2 kB)\n",
            "\n",
            "Collecting smmap<6,>=3.0.1 (from gitdb<5,>=4.0.1->gitpython>=3.1.30)\n",
            "\n",
            "  Obtaining dependency information for smmap<6,>=3.0.1 from https://files.pythonhosted.org/packages/a7/a5/10f97f73544edcdef54409f1d839f6049a0d79df68adbc1ceb24d1aaca42/smmap-5.0.1-py3-none-any.whl.metadata\n",
            "\n",
            "  Downloading smmap-5.0.1-py3-none-any.whl.metadata (4.3 kB)\n",
            "\n",
            "Downloading GitPython-3.1.42-py3-none-any.whl (195 kB)\n",
            "\n",
            "   ---------------------------------------- 0.0/195.4 kB ? eta -:--:--\n",
            "   ------ --------------------------------- 30.7/195.4 kB 1.3 MB/s eta 0:00:01\n",
            "   ------------------------- -------------- 122.9/195.4 kB 2.4 MB/s eta 0:00:01\n",
            "   ------------------------- -------------- 122.9/195.4 kB 2.4 MB/s eta 0:00:01\n",
            "   ------------------------- -------------- 122.9/195.4 kB 2.4 MB/s eta 0:00:01\n",
            "   ------------------------- -------------- 122.9/195.4 kB 2.4 MB/s eta 0:00:01\n",
            "   ------------------------- -------------- 122.9/195.4 kB 2.4 MB/s eta 0:00:01\n",
            "   ------------------------- -------------- 122.9/195.4 kB 2.4 MB/s eta 0:00:01\n",
            "   ------------------------- -------------- 122.9/195.4 kB 2.4 MB/s eta 0:00:01\n",
            "   ------------------------- -------------- 122.9/195.4 kB 2.4 MB/s eta 0:00:01\n",
            "   ------------------------- -------------- 122.9/195.4 kB 2.4 MB/s eta 0:00:01\n",
            "   ------------------------- -------------- 122.9/195.4 kB 2.4 MB/s eta 0:00:01\n",
            "   ------------------------- -------------- 122.9/195.4 kB 2.4 MB/s eta 0:00:01\n",
            "   ------------------------------- ------ 163.8/195.4 kB 339.1 kB/s eta 0:00:01\n",
            "   -------------------------------------- 195.4/195.4 kB 408.8 kB/s eta 0:00:00\n",
            "\n",
            "Downloading gitdb-4.0.11-py3-none-any.whl (62 kB)\n",
            "\n",
            "   ---------------------------------------- 0.0/62.7 kB ? eta -:--:--\n",
            "   ------ --------------------------------- 10.2/62.7 kB ? eta -:--:--\n",
            "   ---------------------------------------- 62.7/62.7 kB 1.1 MB/s eta 0:00:00\n",
            "\n",
            "Downloading smmap-5.0.1-py3-none-any.whl (24 kB)\n",
            "\n",
            "Installing collected packages: smmap, gitdb, gitpython\n",
            "\n",
            "Successfully installed gitdb-4.0.11 gitpython-3.1.42 smmap-5.0.1\n",
            "\n",
            "\n",
            "\u001b[31m\u001b[1mrequirements:\u001b[0m AutoUpdate success ✅ 5.5s, installed 1 package: ['gitpython>=3.1.30']\n",
            "\u001b[31m\u001b[1mrequirements:\u001b[0m ⚠️ \u001b[1mRestart runtime or rerun command for updates to take effect\u001b[0m\n",
            "\n"
          ]
        },
        {
          "name": "stderr",
          "output_type": "stream",
          "text": [
            "\u001b[34m\u001b[1mdetect: \u001b[0mweights=['yolov5s.pt'], source=data/images, data=data\\coco128.yaml, imgsz=[640, 640], conf_thres=0.25, iou_thres=0.45, max_det=1000, device=, view_img=False, save_txt=False, save_csv=False, save_conf=False, save_crop=False, nosave=False, classes=None, agnostic_nms=False, augment=False, visualize=False, update=False, project=runs\\detect, name=exp, exist_ok=False, line_thickness=3, hide_labels=False, hide_conf=False, half=False, dnn=False, vid_stride=1\n",
            "YOLOv5  v7.0-287-g574331f9 Python-3.10.13 torch-2.1.1 CUDA:0 (NVIDIA GeForce GTX 1660 Ti, 6144MiB)\n",
            "\n",
            "Downloading https://github.com/ultralytics/yolov5/releases/download/v7.0/yolov5s.pt to yolov5s.pt...\n",
            "\n",
            "  0%|          | 0.00/14.1M [00:00<?, ?B/s]\n",
            "  0%|          | 48.0k/14.1M [00:00<01:07, 218kB/s]\n",
            "  2%|▏         | 240k/14.1M [00:00<00:28, 515kB/s] \n",
            "  3%|▎         | 416k/14.1M [00:00<00:17, 822kB/s]\n",
            "  6%|▌         | 840k/14.1M [00:00<00:08, 1.70MB/s]\n",
            "  7%|▋         | 1.05M/14.1M [00:00<00:09, 1.48MB/s]\n",
            "  9%|▊         | 1.23M/14.1M [00:01<00:09, 1.35MB/s]\n",
            " 10%|█         | 1.41M/14.1M [00:01<00:09, 1.46MB/s]\n",
            " 11%|█▏        | 1.60M/14.1M [00:01<00:09, 1.44MB/s]\n",
            " 12%|█▏        | 1.76M/14.1M [00:01<00:09, 1.43MB/s]\n",
            " 13%|█▎        | 1.91M/14.1M [00:01<00:11, 1.12MB/s]\n",
            " 14%|█▍        | 2.03M/14.1M [00:01<00:11, 1.12MB/s]\n",
            " 15%|█▌        | 2.16M/14.1M [00:01<00:11, 1.08MB/s]\n",
            " 17%|█▋        | 2.34M/14.1M [00:02<00:09, 1.25MB/s]\n",
            " 18%|█▊        | 2.48M/14.1M [00:02<00:09, 1.30MB/s]\n",
            " 18%|█▊        | 2.61M/14.1M [00:02<00:10, 1.13MB/s]\n",
            " 19%|█▉        | 2.73M/14.1M [00:02<00:15, 777kB/s] \n",
            " 20%|█▉        | 2.82M/14.1M [00:02<00:15, 782kB/s]\n",
            " 22%|██▏       | 3.04M/14.1M [00:02<00:10, 1.08MB/s]\n",
            " 23%|██▎       | 3.29M/14.1M [00:02<00:07, 1.43MB/s]\n",
            " 24%|██▍       | 3.45M/14.1M [00:03<00:09, 1.14MB/s]\n",
            " 25%|██▌       | 3.59M/14.1M [00:03<00:09, 1.12MB/s]\n",
            " 27%|██▋       | 3.79M/14.1M [00:03<00:08, 1.30MB/s]\n",
            " 29%|██▉       | 4.09M/14.1M [00:03<00:06, 1.71MB/s]\n",
            " 31%|███       | 4.38M/14.1M [00:03<00:04, 2.05MB/s]\n",
            " 33%|███▎      | 4.60M/14.1M [00:03<00:06, 1.57MB/s]\n",
            " 35%|███▍      | 4.88M/14.1M [00:03<00:05, 1.86MB/s]\n",
            " 37%|███▋      | 5.24M/14.1M [00:04<00:04, 2.30MB/s]\n",
            " 39%|███▉      | 5.50M/14.1M [00:04<00:06, 1.37MB/s]\n",
            " 41%|████      | 5.82M/14.1M [00:04<00:05, 1.71MB/s]\n",
            " 44%|████▍     | 6.21M/14.1M [00:04<00:03, 2.17MB/s]\n",
            " 46%|████▌     | 6.49M/14.1M [00:04<00:05, 1.55MB/s]\n",
            " 48%|████▊     | 6.72M/14.1M [00:05<00:06, 1.16MB/s]\n",
            " 49%|████▉     | 6.90M/14.1M [00:05<00:07, 1.02MB/s]\n",
            " 50%|████▉     | 7.05M/14.1M [00:05<00:06, 1.07MB/s]\n",
            " 51%|█████▏    | 7.24M/14.1M [00:05<00:05, 1.23MB/s]\n",
            " 53%|█████▎    | 7.51M/14.1M [00:05<00:04, 1.52MB/s]\n",
            " 55%|█████▌    | 7.77M/14.1M [00:06<00:03, 1.79MB/s]\n",
            " 57%|█████▋    | 7.98M/14.1M [00:06<00:04, 1.60MB/s]\n",
            " 58%|█████▊    | 8.17M/14.1M [00:06<00:03, 1.66MB/s]\n",
            " 60%|█████▉    | 8.45M/14.1M [00:06<00:03, 1.94MB/s]\n",
            " 61%|██████▏   | 8.66M/14.1M [00:06<00:03, 1.61MB/s]\n",
            " 63%|██████▎   | 8.84M/14.1M [00:06<00:03, 1.61MB/s]\n",
            " 64%|██████▍   | 9.01M/14.1M [00:07<00:04, 1.11MB/s]\n",
            " 65%|██████▍   | 9.15M/14.1M [00:07<00:07, 655kB/s] \n",
            " 66%|██████▌   | 9.26M/14.1M [00:07<00:08, 611kB/s]\n",
            " 66%|██████▋   | 9.38M/14.1M [00:07<00:07, 702kB/s]\n",
            " 67%|██████▋   | 9.51M/14.1M [00:08<00:07, 673kB/s]\n",
            " 68%|██████▊   | 9.59M/14.1M [00:08<00:06, 696kB/s]\n",
            " 69%|██████▉   | 9.74M/14.1M [00:08<00:05, 853kB/s]\n",
            " 71%|███████   | 9.99M/14.1M [00:08<00:03, 1.20MB/s]\n",
            " 72%|███████▏  | 10.2M/14.1M [00:08<00:03, 1.37MB/s]\n",
            " 74%|███████▎  | 10.4M/14.1M [00:08<00:02, 1.63MB/s]\n",
            " 76%|███████▌  | 10.7M/14.1M [00:08<00:01, 1.95MB/s]\n",
            " 78%|███████▊  | 11.1M/14.1M [00:08<00:01, 2.46MB/s]\n",
            " 80%|████████  | 11.4M/14.1M [00:09<00:01, 2.04MB/s]\n",
            " 82%|████████▏ | 11.6M/14.1M [00:09<00:01, 2.01MB/s]\n",
            " 83%|████████▎ | 11.8M/14.1M [00:09<00:01, 1.91MB/s]\n",
            " 85%|████████▌ | 12.0M/14.1M [00:09<00:01, 2.06MB/s]\n",
            " 88%|████████▊ | 12.4M/14.1M [00:09<00:00, 2.41MB/s]\n",
            " 90%|█████████ | 12.7M/14.1M [00:09<00:00, 2.81MB/s]\n",
            " 92%|█████████▏| 13.0M/14.1M [00:10<00:00, 1.33MB/s]\n",
            " 94%|█████████▍| 13.2M/14.1M [00:10<00:00, 1.37MB/s]\n",
            " 96%|█████████▌| 13.5M/14.1M [00:10<00:00, 1.62MB/s]\n",
            " 98%|█████████▊| 13.8M/14.1M [00:10<00:00, 1.57MB/s]\n",
            " 99%|█████████▉| 14.0M/14.1M [00:10<00:00, 1.48MB/s]\n",
            "100%|██████████| 14.1M/14.1M [00:11<00:00, 1.34MB/s]\n",
            "\n",
            "Fusing layers... \n",
            "YOLOv5s summary: 213 layers, 7225885 parameters, 0 gradients, 16.4 GFLOPs\n",
            "image 1/2 E:\\Coding\\Pollen\\yolov5\\data\\images\\bus.jpg: 640x480 4 persons, 1 bus, 51.5ms\n",
            "image 2/2 E:\\Coding\\Pollen\\yolov5\\data\\images\\zidane.jpg: 384x640 2 persons, 2 ties, 48.0ms\n",
            "Speed: 1.5ms pre-process, 49.7ms inference, 78.0ms NMS per image at shape (1, 3, 640, 640)\n",
            "Results saved to \u001b[1mruns\\detect\\exp\u001b[0m\n"
          ]
        }
      ],
      "source": [
        "!python detect.py --weights yolov5s.pt --img 640 --conf 0.25 --source data/images\n",
        "# display.Image(filename='runs/detect/exp/zidane.jpg', width=600)"
      ]
    },
    {
      "cell_type": "markdown",
      "metadata": {
        "id": "hkAzDWJ7cWTr"
      },
      "source": [
        "&nbsp;&nbsp;&nbsp;&nbsp;&nbsp;&nbsp;&nbsp;&nbsp;\n",
        "<img align=\"left\" src=\"https://user-images.githubusercontent.com/26833433/127574988-6a558aa1-d268-44b9-bf6b-62d4c605cc72.jpg\" width=\"600\">"
      ]
    },
    {
      "cell_type": "markdown",
      "metadata": {
        "id": "0eq1SMWl6Sfn"
      },
      "source": [
        "# 2. Validate\n",
        "Validate a model's accuracy on the [COCO](https://cocodataset.org/#home) dataset's `val` or `test` splits. Models are downloaded automatically from the [latest YOLOv5 release](https://github.com/ultralytics/yolov5/releases). To show results by class use the `--verbose` flag."
      ]
    },
    {
      "cell_type": "code",
      "execution_count": null,
      "metadata": {
        "colab": {
          "base_uri": "https://localhost:8080/"
        },
        "id": "WQPtK1QYVaD_",
        "outputId": "cf7d52f0-281c-4c96-a488-79f5908f8426"
      },
      "outputs": [],
      "source": [
        "# Download COCO val\n",
        "torch.hub.download_url_to_file('https://ultralytics.com/assets/coco2017val.zip', 'tmp.zip')  # download (780M - 5000 images)\n",
        "!unzip -q tmp.zip -d ../datasets && rm tmp.zip  # unzip"
      ]
    },
    {
      "cell_type": "code",
      "execution_count": null,
      "metadata": {
        "colab": {
          "base_uri": "https://localhost:8080/"
        },
        "id": "X58w8JLpMnjH",
        "outputId": "3e234e05-ee8b-4ad1-b1a4-f6a55d5e4f3d"
      },
      "outputs": [],
      "source": [
        "# Validate YOLOv5s on COCO val\n",
        "!python val.py --weights yolov5s.pt --data coco.yaml --img 640 --half"
      ]
    },
    {
      "cell_type": "markdown",
      "metadata": {
        "id": "ZY2VXXXu74w5"
      },
      "source": [
        "# 3. Train\n",
        "\n",
        "<p align=\"\"><a href=\"https://bit.ly/ultralytics_hub\"><img width=\"1000\" src=\"https://github.com/ultralytics/assets/raw/main/im/integrations-loop.png\"/></a></p>\n",
        "Close the active learning loop by sampling images from your inference conditions with the `roboflow` pip package\n",
        "<br><br>\n",
        "\n",
        "Train a YOLOv5s model on the [COCO128](https://www.kaggle.com/ultralytics/coco128) dataset with `--data coco128.yaml`, starting from pretrained `--weights yolov5s.pt`, or from randomly initialized `--weights '' --cfg yolov5s.yaml`.\n",
        "\n",
        "- **Pretrained [Models](https://github.com/ultralytics/yolov5/tree/master/models)** are downloaded\n",
        "automatically from the [latest YOLOv5 release](https://github.com/ultralytics/yolov5/releases)\n",
        "- **[Datasets](https://github.com/ultralytics/yolov5/tree/master/data)** available for autodownload include: [COCO](https://github.com/ultralytics/yolov5/blob/master/data/coco.yaml), [COCO128](https://github.com/ultralytics/yolov5/blob/master/data/coco128.yaml), [VOC](https://github.com/ultralytics/yolov5/blob/master/data/VOC.yaml), [Argoverse](https://github.com/ultralytics/yolov5/blob/master/data/Argoverse.yaml), [VisDrone](https://github.com/ultralytics/yolov5/blob/master/data/VisDrone.yaml), [GlobalWheat](https://github.com/ultralytics/yolov5/blob/master/data/GlobalWheat2020.yaml), [xView](https://github.com/ultralytics/yolov5/blob/master/data/xView.yaml), [Objects365](https://github.com/ultralytics/yolov5/blob/master/data/Objects365.yaml), [SKU-110K](https://github.com/ultralytics/yolov5/blob/master/data/SKU-110K.yaml).\n",
        "- **Training Results** are saved to `runs/train/` with incrementing run directories, i.e. `runs/train/exp2`, `runs/train/exp3` etc.\n",
        "<br>\n",
        "\n",
        "A **Mosaic Dataloader** is used for training which combines 4 images into 1 mosaic.\n",
        "\n",
        "## Label a dataset on Roboflow (optional)\n",
        "\n",
        "[Roboflow](https://roboflow.com/?ref=ultralytics) enables you to easily **organize, label, and prepare** a high quality dataset with your own custom data. Roboflow also makes it easy to establish an active learning pipeline, collaborate with your team on dataset improvement, and integrate directly into your model building workflow with the `roboflow` pip package."
      ]
    },
    {
      "cell_type": "code",
      "execution_count": null,
      "metadata": {
        "id": "i3oKtE4g-aNn"
      },
      "outputs": [],
      "source": [
        "#@title Select YOLOv5 🚀 logger {run: 'auto'}\n",
        "logger = 'Comet' #@param ['Comet', 'ClearML', 'TensorBoard']\n",
        "\n",
        "if logger == 'Comet':\n",
        "  %pip install -q comet_ml\n",
        "  import comet_ml; comet_ml.init()\n",
        "elif logger == 'ClearML':\n",
        "  %pip install -q clearml\n",
        "  import clearml; clearml.browser_login()\n",
        "elif logger == 'TensorBoard':\n",
        "  %load_ext tensorboard\n",
        "  %tensorboard --logdir runs/train"
      ]
    },
    {
      "cell_type": "code",
      "execution_count": 4,
      "metadata": {
        "colab": {
          "base_uri": "https://localhost:8080/"
        },
        "id": "1NcFxRcFdJ_O",
        "outputId": "bbeeea2b-04fc-4185-aa64-258690495b5a"
      },
      "outputs": [
        {
          "name": "stdout",
          "output_type": "stream",
          "text": [
            "Command 'git fetch origin' returned non-zero exit status 128.\n"
          ]
        },
        {
          "name": "stderr",
          "output_type": "stream",
          "text": [
            "WARNING:tensorflow:From c:\\Users\\horva\\.conda\\envs\\Pollen\\lib\\site-packages\\keras\\src\\losses.py:2976: The name tf.losses.sparse_softmax_cross_entropy is deprecated. Please use tf.compat.v1.losses.sparse_softmax_cross_entropy instead.\n",
            "\n",
            "\u001b[34m\u001b[1mtrain: \u001b[0mweights=yolov5s.pt, cfg=, data=E:/Coding/Pollen/datasets/SYNTH_POLLEN73S/pollen_dataset.yaml, hyp=data\\hyps\\hyp.scratch-low.yaml, epochs=3, batch_size=16, imgsz=640, rect=False, resume=False, nosave=False, noval=False, noautoanchor=False, noplots=False, evolve=None, evolve_population=data\\hyps, resume_evolve=None, bucket=, cache=ram, image_weights=False, device=, multi_scale=False, single_cls=False, optimizer=SGD, sync_bn=False, workers=8, project=runs\\train, name=exp, exist_ok=False, quad=False, cos_lr=False, label_smoothing=0.0, patience=100, freeze=[0], save_period=-1, seed=0, local_rank=-1, entity=None, upload_dataset=False, bbox_interval=-1, artifact_alias=latest, ndjson_console=False, ndjson_file=False\n",
            "git@github.com: Permission denied (publickey).\n",
            "fatal: Could not read from remote repository.\n",
            "\n",
            "Please make sure you have the correct access rights\n",
            "and the repository exists.\n",
            "YOLOv5  v7.0-287-g574331f9 Python-3.10.13 torch-2.1.1 CUDA:0 (NVIDIA GeForce GTX 1660 Ti, 6144MiB)\n",
            "\n",
            "\u001b[34m\u001b[1mhyperparameters: \u001b[0mlr0=0.01, lrf=0.01, momentum=0.937, weight_decay=0.0005, warmup_epochs=3.0, warmup_momentum=0.8, warmup_bias_lr=0.1, box=0.05, cls=0.5, cls_pw=1.0, obj=1.0, obj_pw=1.0, iou_t=0.2, anchor_t=4.0, fl_gamma=0.0, hsv_h=0.015, hsv_s=0.7, hsv_v=0.4, degrees=0.0, translate=0.1, scale=0.5, shear=0.0, perspective=0.0, flipud=0.0, fliplr=0.5, mosaic=1.0, mixup=0.0, copy_paste=0.0\n",
            "\u001b[34m\u001b[1mComet: \u001b[0mrun 'pip install comet_ml' to automatically track and visualize YOLOv5  runs in Comet\n",
            "\u001b[34m\u001b[1mTensorBoard: \u001b[0mStart with 'tensorboard --logdir runs\\train', view at http://localhost:6006/\n",
            "Overriding model.yaml nc=80 with nc=73\n",
            "\n",
            "                 from  n    params  module                                  arguments                     \n",
            "  0                -1  1      3520  models.common.Conv                      [3, 32, 6, 2, 2]              \n",
            "  1                -1  1     18560  models.common.Conv                      [32, 64, 3, 2]                \n",
            "  2                -1  1     18816  models.common.C3                        [64, 64, 1]                   \n",
            "  3                -1  1     73984  models.common.Conv                      [64, 128, 3, 2]               \n",
            "  4                -1  2    115712  models.common.C3                        [128, 128, 2]                 \n",
            "  5                -1  1    295424  models.common.Conv                      [128, 256, 3, 2]              \n",
            "  6                -1  3    625152  models.common.C3                        [256, 256, 3]                 \n",
            "  7                -1  1   1180672  models.common.Conv                      [256, 512, 3, 2]              \n",
            "  8                -1  1   1182720  models.common.C3                        [512, 512, 1]                 \n",
            "  9                -1  1    656896  models.common.SPPF                      [512, 512, 5]                 \n",
            " 10                -1  1    131584  models.common.Conv                      [512, 256, 1, 1]              \n",
            " 11                -1  1         0  torch.nn.modules.upsampling.Upsample    [None, 2, 'nearest']          \n",
            " 12           [-1, 6]  1         0  models.common.Concat                    [1]                           \n",
            " 13                -1  1    361984  models.common.C3                        [512, 256, 1, False]          \n",
            " 14                -1  1     33024  models.common.Conv                      [256, 128, 1, 1]              \n",
            " 15                -1  1         0  torch.nn.modules.upsampling.Upsample    [None, 2, 'nearest']          \n",
            " 16           [-1, 4]  1         0  models.common.Concat                    [1]                           \n",
            " 17                -1  1     90880  models.common.C3                        [256, 128, 1, False]          \n",
            " 18                -1  1    147712  models.common.Conv                      [128, 128, 3, 2]              \n",
            " 19          [-1, 14]  1         0  models.common.Concat                    [1]                           \n",
            " 20                -1  1    296448  models.common.C3                        [256, 256, 1, False]          \n",
            " 21                -1  1    590336  models.common.Conv                      [256, 256, 3, 2]              \n",
            " 22          [-1, 10]  1         0  models.common.Concat                    [1]                           \n",
            " 23                -1  1   1182720  models.common.C3                        [512, 512, 1, False]          \n",
            " 24      [17, 20, 23]  1    210366  models.yolo.Detect                      [73, [[10, 13, 16, 30, 33, 23], [30, 61, 62, 45, 59, 119], [116, 90, 156, 198, 373, 326]], [128, 256, 512]]\n",
            "Model summary: 214 layers, 7216510 parameters, 7216510 gradients, 16.6 GFLOPs\n",
            "\n",
            "Transferred 343/349 items from yolov5s.pt\n",
            "\u001b[34m\u001b[1mAMP: \u001b[0mchecks passed \n",
            "\u001b[34m\u001b[1moptimizer:\u001b[0m SGD(lr=0.01) with parameter groups 57 weight(decay=0.0), 60 weight(decay=0.0005), 60 bias\n",
            "\n",
            "\u001b[34m\u001b[1mtrain: \u001b[0mScanning E:\\Coding\\Pollen\\datasets\\SYNTH_POLLEN73S\\train\\labels...:   0%|          | 0/900 [00:00<?, ?it/s]WARNING:tensorflow:From c:\\Users\\horva\\.conda\\envs\\Pollen\\lib\\site-packages\\keras\\src\\losses.py:2976: The name tf.losses.sparse_softmax_cross_entropy is deprecated. Please use tf.compat.v1.losses.sparse_softmax_cross_entropy instead.\n",
            "\n",
            "WARNING:tensorflow:From c:\\Users\\horva\\.conda\\envs\\Pollen\\lib\\site-packages\\keras\\src\\losses.py:2976: The name tf.losses.sparse_softmax_cross_entropy is deprecated. Please use tf.compat.v1.losses.sparse_softmax_cross_entropy instead.\n",
            "\n",
            "WARNING:tensorflow:From c:\\Users\\horva\\.conda\\envs\\Pollen\\lib\\site-packages\\keras\\src\\losses.py:2976: The name tf.losses.sparse_softmax_cross_entropy is deprecated. Please use tf.compat.v1.losses.sparse_softmax_cross_entropy instead.\n",
            "\n",
            "WARNING:tensorflow:From c:\\Users\\horva\\.conda\\envs\\Pollen\\lib\\site-packages\\keras\\src\\losses.py:2976: The name tf.losses.sparse_softmax_cross_entropy is deprecated. Please use tf.compat.v1.losses.sparse_softmax_cross_entropy instead.\n",
            "\n",
            "WARNING:tensorflow:From c:\\Users\\horva\\.conda\\envs\\Pollen\\lib\\site-packages\\keras\\src\\losses.py:2976: The name tf.losses.sparse_softmax_cross_entropy is deprecated. Please use tf.compat.v1.losses.sparse_softmax_cross_entropy instead.\n",
            "\n",
            "WARNING:tensorflow:From c:\\Users\\horva\\.conda\\envs\\Pollen\\lib\\site-packages\\keras\\src\\losses.py:2976: The name tf.losses.sparse_softmax_cross_entropy is deprecated. Please use tf.compat.v1.losses.sparse_softmax_cross_entropy instead.\n",
            "\n",
            "WARNING:tensorflow:From c:\\Users\\horva\\.conda\\envs\\Pollen\\lib\\site-packages\\keras\\src\\losses.py:2976: The name tf.losses.sparse_softmax_cross_entropy is deprecated. Please use tf.compat.v1.losses.sparse_softmax_cross_entropy instead.\n",
            "\n",
            "WARNING:tensorflow:From c:\\Users\\horva\\.conda\\envs\\Pollen\\lib\\site-packages\\keras\\src\\losses.py:2976: The name tf.losses.sparse_softmax_cross_entropy is deprecated. Please use tf.compat.v1.losses.sparse_softmax_cross_entropy instead.\n",
            "\n",
            "\n",
            "\u001b[34m\u001b[1mtrain: \u001b[0mScanning E:\\Coding\\Pollen\\datasets\\SYNTH_POLLEN73S\\train\\labels... 1 images, 0 backgrounds, 0 corrupt:   0%|          | 1/900 [00:23<5:44:40, 23.00s/it]\n",
            "\u001b[34m\u001b[1mtrain: \u001b[0mScanning E:\\Coding\\Pollen\\datasets\\SYNTH_POLLEN73S\\train\\labels... 8 images, 0 backgrounds, 0 corrupt:   1%|          | 8/900 [00:23<31:19,  2.11s/it]  \n",
            "\u001b[34m\u001b[1mtrain: \u001b[0mScanning E:\\Coding\\Pollen\\datasets\\SYNTH_POLLEN73S\\train\\labels... 25 images, 0 backgrounds, 0 corrupt:   3%|▎         | 25/900 [00:23<07:27,  1.95it/s]\n",
            "\u001b[34m\u001b[1mtrain: \u001b[0mScanning E:\\Coding\\Pollen\\datasets\\SYNTH_POLLEN73S\\train\\labels... 69 images, 0 backgrounds, 0 corrupt:   8%|▊         | 69/900 [00:23<01:53,  7.34it/s]\n",
            "\u001b[34m\u001b[1mtrain: \u001b[0mScanning E:\\Coding\\Pollen\\datasets\\SYNTH_POLLEN73S\\train\\labels... 109 images, 0 backgrounds, 0 corrupt:  12%|█▏        | 109/900 [00:23<00:56, 14.11it/s]\n",
            "\u001b[34m\u001b[1mtrain: \u001b[0mScanning E:\\Coding\\Pollen\\datasets\\SYNTH_POLLEN73S\\train\\labels... 157 images, 0 backgrounds, 0 corrupt:  17%|█▋        | 157/900 [00:23<00:29, 25.31it/s]\n",
            "\u001b[34m\u001b[1mtrain: \u001b[0mScanning E:\\Coding\\Pollen\\datasets\\SYNTH_POLLEN73S\\train\\labels... 199 images, 0 backgrounds, 0 corrupt:  22%|██▏       | 199/900 [00:23<00:18, 38.37it/s]\n",
            "\u001b[34m\u001b[1mtrain: \u001b[0mScanning E:\\Coding\\Pollen\\datasets\\SYNTH_POLLEN73S\\train\\labels... 245 images, 0 backgrounds, 0 corrupt:  27%|██▋       | 245/900 [00:23<00:11, 57.24it/s]\n",
            "\u001b[34m\u001b[1mtrain: \u001b[0mScanning E:\\Coding\\Pollen\\datasets\\SYNTH_POLLEN73S\\train\\labels... 285 images, 0 backgrounds, 0 corrupt:  32%|███▏      | 285/900 [00:23<00:07, 77.63it/s]\n",
            "\u001b[34m\u001b[1mtrain: \u001b[0mScanning E:\\Coding\\Pollen\\datasets\\SYNTH_POLLEN73S\\train\\labels... 325 images, 0 backgrounds, 0 corrupt:  36%|███▌      | 325/900 [00:23<00:05, 102.91it/s]\n",
            "\u001b[34m\u001b[1mtrain: \u001b[0mScanning E:\\Coding\\Pollen\\datasets\\SYNTH_POLLEN73S\\train\\labels... 373 images, 0 backgrounds, 0 corrupt:  41%|████▏     | 373/900 [00:24<00:03, 140.17it/s]\n",
            "\u001b[34m\u001b[1mtrain: \u001b[0mScanning E:\\Coding\\Pollen\\datasets\\SYNTH_POLLEN73S\\train\\labels... 415 images, 0 backgrounds, 0 corrupt:  46%|████▌     | 415/900 [00:24<00:02, 175.38it/s]\n",
            "\u001b[34m\u001b[1mtrain: \u001b[0mScanning E:\\Coding\\Pollen\\datasets\\SYNTH_POLLEN73S\\train\\labels... 463 images, 0 backgrounds, 0 corrupt:  51%|█████▏    | 463/900 [00:24<00:01, 219.78it/s]\n",
            "\u001b[34m\u001b[1mtrain: \u001b[0mScanning E:\\Coding\\Pollen\\datasets\\SYNTH_POLLEN73S\\train\\labels... 511 images, 0 backgrounds, 0 corrupt:  57%|█████▋    | 511/900 [00:24<00:01, 263.14it/s]\n",
            "\u001b[34m\u001b[1mtrain: \u001b[0mScanning E:\\Coding\\Pollen\\datasets\\SYNTH_POLLEN73S\\train\\labels... 559 images, 0 backgrounds, 0 corrupt:  62%|██████▏   | 559/900 [00:24<00:01, 301.18it/s]\n",
            "\u001b[34m\u001b[1mtrain: \u001b[0mScanning E:\\Coding\\Pollen\\datasets\\SYNTH_POLLEN73S\\train\\labels... 607 images, 0 backgrounds, 0 corrupt:  67%|██████▋   | 607/900 [00:24<00:00, 336.02it/s]\n",
            "\u001b[34m\u001b[1mtrain: \u001b[0mScanning E:\\Coding\\Pollen\\datasets\\SYNTH_POLLEN73S\\train\\labels... 655 images, 0 backgrounds, 0 corrupt:  73%|███████▎  | 655/900 [00:24<00:00, 364.03it/s]\n",
            "\u001b[34m\u001b[1mtrain: \u001b[0mScanning E:\\Coding\\Pollen\\datasets\\SYNTH_POLLEN73S\\train\\labels... 703 images, 0 backgrounds, 0 corrupt:  78%|███████▊  | 703/900 [00:24<00:00, 385.27it/s]\n",
            "\u001b[34m\u001b[1mtrain: \u001b[0mScanning E:\\Coding\\Pollen\\datasets\\SYNTH_POLLEN73S\\train\\labels... 751 images, 0 backgrounds, 0 corrupt:  83%|████████▎ | 751/900 [00:24<00:00, 404.55it/s]\n",
            "\u001b[34m\u001b[1mtrain: \u001b[0mScanning E:\\Coding\\Pollen\\datasets\\SYNTH_POLLEN73S\\train\\labels... 799 images, 0 backgrounds, 0 corrupt:  89%|████████▉ | 799/900 [00:25<00:00, 415.83it/s]\n",
            "\u001b[34m\u001b[1mtrain: \u001b[0mScanning E:\\Coding\\Pollen\\datasets\\SYNTH_POLLEN73S\\train\\labels... 845 images, 0 backgrounds, 0 corrupt:  94%|█████████▍| 845/900 [00:25<00:00, 424.39it/s]\n",
            "\u001b[34m\u001b[1mtrain: \u001b[0mScanning E:\\Coding\\Pollen\\datasets\\SYNTH_POLLEN73S\\train\\labels... 893 images, 0 backgrounds, 0 corrupt:  99%|█████████▉| 893/900 [00:25<00:00, 433.83it/s]\n",
            "\u001b[34m\u001b[1mtrain: \u001b[0mScanning E:\\Coding\\Pollen\\datasets\\SYNTH_POLLEN73S\\train\\labels... 900 images, 0 backgrounds, 0 corrupt: 100%|██████████| 900/900 [00:25<00:00, 35.65it/s] \n",
            "\u001b[34m\u001b[1mtrain: \u001b[0mNew cache created: E:\\Coding\\Pollen\\datasets\\SYNTH_POLLEN73S\\train\\labels.cache\n",
            "\n",
            "  0%|          | 0/900 [00:00<?, ?it/s]\n",
            "\u001b[34m\u001b[1mtrain: \u001b[0mCaching images (0.0GB ram):   2%|▏         | 21/900 [00:00<00:04, 205.52it/s]\n",
            "\u001b[34m\u001b[1mtrain: \u001b[0mCaching images (0.0GB ram):   5%|▌         | 49/900 [00:00<00:03, 232.88it/s]\n",
            "\u001b[34m\u001b[1mtrain: \u001b[0mCaching images (0.0GB ram):   8%|▊         | 74/900 [00:00<00:03, 239.34it/s]\n",
            "\u001b[34m\u001b[1mtrain: \u001b[0mCaching images (0.1GB ram):  12%|█▏        | 106/900 [00:00<00:03, 247.50it/s]\n",
            "\u001b[34m\u001b[1mtrain: \u001b[0mCaching images (0.1GB ram):  15%|█▌        | 138/900 [00:00<00:03, 253.91it/s]\n",
            "\u001b[34m\u001b[1mtrain: \u001b[0mCaching images (0.1GB ram):  18%|█▊        | 164/900 [00:00<00:02, 253.45it/s]\n",
            "\u001b[34m\u001b[1mtrain: \u001b[0mCaching images (0.1GB ram):  21%|██        | 190/900 [00:00<00:02, 251.62it/s]\n",
            "\u001b[34m\u001b[1mtrain: \u001b[0mCaching images (0.1GB ram):  24%|██▍       | 216/900 [00:00<00:02, 244.60it/s]\n",
            "\u001b[34m\u001b[1mtrain: \u001b[0mCaching images (0.2GB ram):  27%|██▋       | 241/900 [00:01<00:02, 231.62it/s]\n",
            "\u001b[34m\u001b[1mtrain: \u001b[0mCaching images (0.2GB ram):  29%|██▉       | 265/900 [00:01<00:02, 218.55it/s]\n",
            "\u001b[34m\u001b[1mtrain: \u001b[0mCaching images (0.2GB ram):  32%|███▏      | 287/900 [00:01<00:03, 202.34it/s]\n",
            "\u001b[34m\u001b[1mtrain: \u001b[0mCaching images (0.2GB ram):  35%|███▌      | 316/900 [00:01<00:02, 216.40it/s]\n",
            "\u001b[34m\u001b[1mtrain: \u001b[0mCaching images (0.2GB ram):  39%|███▊      | 348/900 [00:01<00:02, 242.71it/s]\n",
            "\u001b[34m\u001b[1mtrain: \u001b[0mCaching images (0.2GB ram):  42%|████▏     | 374/900 [00:01<00:02, 240.85it/s]\n",
            "\u001b[34m\u001b[1mtrain: \u001b[0mCaching images (0.3GB ram):  45%|████▍     | 401/900 [00:01<00:02, 244.23it/s]\n",
            "\u001b[34m\u001b[1mtrain: \u001b[0mCaching images (0.3GB ram):  48%|████▊     | 428/900 [00:01<00:01, 244.25it/s]\n",
            "\u001b[34m\u001b[1mtrain: \u001b[0mCaching images (0.3GB ram):  50%|█████     | 453/900 [00:01<00:01, 225.30it/s]\n",
            "\u001b[34m\u001b[1mtrain: \u001b[0mCaching images (0.3GB ram):  53%|█████▎    | 476/900 [00:02<00:01, 213.14it/s]\n",
            "\u001b[34m\u001b[1mtrain: \u001b[0mCaching images (0.3GB ram):  56%|█████▌    | 501/900 [00:02<00:01, 215.48it/s]\n",
            "\u001b[34m\u001b[1mtrain: \u001b[0mCaching images (0.3GB ram):  58%|█████▊    | 526/900 [00:02<00:01, 224.33it/s]\n",
            "\u001b[34m\u001b[1mtrain: \u001b[0mCaching images (0.4GB ram):  62%|██████▏   | 558/900 [00:02<00:01, 236.17it/s]\n",
            "\u001b[34m\u001b[1mtrain: \u001b[0mCaching images (0.4GB ram):  66%|██████▌   | 590/900 [00:02<00:01, 244.94it/s]\n",
            "\u001b[34m\u001b[1mtrain: \u001b[0mCaching images (0.4GB ram):  68%|██████▊   | 615/900 [00:02<00:01, 239.87it/s]\n",
            "\u001b[34m\u001b[1mtrain: \u001b[0mCaching images (0.4GB ram):  72%|███████▏  | 646/900 [00:02<00:01, 246.21it/s]\n",
            "\u001b[34m\u001b[1mtrain: \u001b[0mCaching images (0.4GB ram):  75%|███████▍  | 671/900 [00:02<00:00, 230.46it/s]\n",
            "\u001b[34m\u001b[1mtrain: \u001b[0mCaching images (0.4GB ram):  77%|███████▋  | 695/900 [00:03<00:00, 211.97it/s]\n",
            "\u001b[34m\u001b[1mtrain: \u001b[0mCaching images (0.5GB ram):  80%|███████▉  | 718/900 [00:03<00:00, 208.07it/s]\n",
            "\u001b[34m\u001b[1mtrain: \u001b[0mCaching images (0.5GB ram):  82%|████████▏ | 742/900 [00:03<00:00, 211.96it/s]\n",
            "\u001b[34m\u001b[1mtrain: \u001b[0mCaching images (0.5GB ram):  85%|████████▌ | 769/900 [00:03<00:00, 225.62it/s]\n",
            "\u001b[34m\u001b[1mtrain: \u001b[0mCaching images (0.5GB ram):  89%|████████▉ | 802/900 [00:03<00:00, 249.46it/s]\n",
            "\u001b[34m\u001b[1mtrain: \u001b[0mCaching images (0.5GB ram):  92%|█████████▏| 832/900 [00:03<00:00, 249.63it/s]\n",
            "\u001b[34m\u001b[1mtrain: \u001b[0mCaching images (0.6GB ram):  96%|█████████▌| 864/900 [00:03<00:00, 258.27it/s]\n",
            "\u001b[34m\u001b[1mtrain: \u001b[0mCaching images (0.6GB ram):  99%|█████████▉| 890/900 [00:03<00:00, 250.54it/s]\n",
            "\u001b[34m\u001b[1mtrain: \u001b[0mCaching images (0.6GB ram): 100%|██████████| 900/900 [00:03<00:00, 235.12it/s]\n",
            "WARNING:tensorflow:From c:\\Users\\horva\\.conda\\envs\\Pollen\\lib\\site-packages\\keras\\src\\losses.py:2976: The name tf.losses.sparse_softmax_cross_entropy is deprecated. Please use tf.compat.v1.losses.sparse_softmax_cross_entropy instead.\n",
            "\n",
            "WARNING:tensorflow:From c:\\Users\\horva\\.conda\\envs\\Pollen\\lib\\site-packages\\keras\\src\\losses.py:2976: The name tf.losses.sparse_softmax_cross_entropy is deprecated. Please use tf.compat.v1.losses.sparse_softmax_cross_entropy instead.\n",
            "\n",
            "WARNING:tensorflow:From c:\\Users\\horva\\.conda\\envs\\Pollen\\lib\\site-packages\\keras\\src\\losses.py:2976: The name tf.losses.sparse_softmax_cross_entropy is deprecated. Please use tf.compat.v1.losses.sparse_softmax_cross_entropy instead.\n",
            "\n",
            "WARNING:tensorflow:From c:\\Users\\horva\\.conda\\envs\\Pollen\\lib\\site-packages\\keras\\src\\losses.py:2976: The name tf.losses.sparse_softmax_cross_entropy is deprecated. Please use tf.compat.v1.losses.sparse_softmax_cross_entropy instead.\n",
            "\n",
            "WARNING:tensorflow:From c:\\Users\\horva\\.conda\\envs\\Pollen\\lib\\site-packages\\keras\\src\\losses.py:2976: The name tf.losses.sparse_softmax_cross_entropy is deprecated. Please use tf.compat.v1.losses.sparse_softmax_cross_entropy instead.\n",
            "\n",
            "WARNING:tensorflow:From c:\\Users\\horva\\.conda\\envs\\Pollen\\lib\\site-packages\\keras\\src\\losses.py:2976: The name tf.losses.sparse_softmax_cross_entropy is deprecated. Please use tf.compat.v1.losses.sparse_softmax_cross_entropy instead.\n",
            "\n",
            "WARNING:tensorflow:From c:\\Users\\horva\\.conda\\envs\\Pollen\\lib\\site-packages\\keras\\src\\losses.py:2976: The name tf.losses.sparse_softmax_cross_entropy is deprecated. Please use tf.compat.v1.losses.sparse_softmax_cross_entropy instead.\n",
            "\n",
            "WARNING:tensorflow:From c:\\Users\\horva\\.conda\\envs\\Pollen\\lib\\site-packages\\keras\\src\\losses.py:2976: The name tf.losses.sparse_softmax_cross_entropy is deprecated. Please use tf.compat.v1.losses.sparse_softmax_cross_entropy instead.\n",
            "\n",
            "\n",
            "\u001b[34m\u001b[1mval: \u001b[0mScanning E:\\Coding\\Pollen\\datasets\\SYNTH_POLLEN73S\\val\\labels...:   0%|          | 0/900 [00:00<?, ?it/s]WARNING:tensorflow:From c:\\Users\\horva\\.conda\\envs\\Pollen\\lib\\site-packages\\keras\\src\\losses.py:2976: The name tf.losses.sparse_softmax_cross_entropy is deprecated. Please use tf.compat.v1.losses.sparse_softmax_cross_entropy instead.\n",
            "\n",
            "WARNING:tensorflow:From c:\\Users\\horva\\.conda\\envs\\Pollen\\lib\\site-packages\\keras\\src\\losses.py:2976: The name tf.losses.sparse_softmax_cross_entropy is deprecated. Please use tf.compat.v1.losses.sparse_softmax_cross_entropy instead.\n",
            "\n",
            "WARNING:tensorflow:From c:\\Users\\horva\\.conda\\envs\\Pollen\\lib\\site-packages\\keras\\src\\losses.py:2976: The name tf.losses.sparse_softmax_cross_entropy is deprecated. Please use tf.compat.v1.losses.sparse_softmax_cross_entropy instead.\n",
            "\n",
            "WARNING:tensorflow:From c:\\Users\\horva\\.conda\\envs\\Pollen\\lib\\site-packages\\keras\\src\\losses.py:2976: The name tf.losses.sparse_softmax_cross_entropy is deprecated. Please use tf.compat.v1.losses.sparse_softmax_cross_entropy instead.\n",
            "\n",
            "WARNING:tensorflow:From c:\\Users\\horva\\.conda\\envs\\Pollen\\lib\\site-packages\\keras\\src\\losses.py:2976: The name tf.losses.sparse_softmax_cross_entropy is deprecated. Please use tf.compat.v1.losses.sparse_softmax_cross_entropy instead.\n",
            "\n",
            "WARNING:tensorflow:From c:\\Users\\horva\\.conda\\envs\\Pollen\\lib\\site-packages\\keras\\src\\losses.py:2976: The name tf.losses.sparse_softmax_cross_entropy is deprecated. Please use tf.compat.v1.losses.sparse_softmax_cross_entropy instead.\n",
            "\n",
            "WARNING:tensorflow:From c:\\Users\\horva\\.conda\\envs\\Pollen\\lib\\site-packages\\keras\\src\\losses.py:2976: The name tf.losses.sparse_softmax_cross_entropy is deprecated. Please use tf.compat.v1.losses.sparse_softmax_cross_entropy instead.\n",
            "\n",
            "WARNING:tensorflow:From c:\\Users\\horva\\.conda\\envs\\Pollen\\lib\\site-packages\\keras\\src\\losses.py:2976: The name tf.losses.sparse_softmax_cross_entropy is deprecated. Please use tf.compat.v1.losses.sparse_softmax_cross_entropy instead.\n",
            "\n",
            "\n",
            "\u001b[34m\u001b[1mval: \u001b[0mScanning E:\\Coding\\Pollen\\datasets\\SYNTH_POLLEN73S\\val\\labels... 1 images, 0 backgrounds, 0 corrupt:   0%|          | 1/900 [00:30<7:38:41, 30.61s/it]\n",
            "\u001b[34m\u001b[1mval: \u001b[0mScanning E:\\Coding\\Pollen\\datasets\\SYNTH_POLLEN73S\\val\\labels... 41 images, 0 backgrounds, 0 corrupt:   5%|▍         | 41/900 [00:30<07:34,  1.89it/s]\n",
            "\u001b[34m\u001b[1mval: \u001b[0mScanning E:\\Coding\\Pollen\\datasets\\SYNTH_POLLEN73S\\val\\labels... 81 images, 0 backgrounds, 0 corrupt:   9%|▉         | 81/900 [00:30<03:01,  4.51it/s]\n",
            "\u001b[34m\u001b[1mval: \u001b[0mScanning E:\\Coding\\Pollen\\datasets\\SYNTH_POLLEN73S\\val\\labels... 118 images, 0 backgrounds, 0 corrupt:  13%|█▎        | 118/900 [00:30<01:38,  7.91it/s]\n",
            "\u001b[34m\u001b[1mval: \u001b[0mScanning E:\\Coding\\Pollen\\datasets\\SYNTH_POLLEN73S\\val\\labels... 155 images, 0 backgrounds, 0 corrupt:  17%|█▋        | 155/900 [00:31<00:58, 12.65it/s]\n",
            "\u001b[34m\u001b[1mval: \u001b[0mScanning E:\\Coding\\Pollen\\datasets\\SYNTH_POLLEN73S\\val\\labels... 193 images, 0 backgrounds, 0 corrupt:  21%|██▏       | 193/900 [00:31<00:36, 19.39it/s]\n",
            "\u001b[34m\u001b[1mval: \u001b[0mScanning E:\\Coding\\Pollen\\datasets\\SYNTH_POLLEN73S\\val\\labels... 233 images, 0 backgrounds, 0 corrupt:  26%|██▌       | 233/900 [00:31<00:22, 29.08it/s]\n",
            "\u001b[34m\u001b[1mval: \u001b[0mScanning E:\\Coding\\Pollen\\datasets\\SYNTH_POLLEN73S\\val\\labels... 274 images, 0 backgrounds, 0 corrupt:  30%|███       | 274/900 [00:31<00:14, 42.50it/s]\n",
            "\u001b[34m\u001b[1mval: \u001b[0mScanning E:\\Coding\\Pollen\\datasets\\SYNTH_POLLEN73S\\val\\labels... 313 images, 0 backgrounds, 0 corrupt:  35%|███▍      | 313/900 [00:31<00:09, 59.08it/s]\n",
            "\u001b[34m\u001b[1mval: \u001b[0mScanning E:\\Coding\\Pollen\\datasets\\SYNTH_POLLEN73S\\val\\labels... 357 images, 0 backgrounds, 0 corrupt:  40%|███▉      | 357/900 [00:31<00:06, 83.36it/s]\n",
            "\u001b[34m\u001b[1mval: \u001b[0mScanning E:\\Coding\\Pollen\\datasets\\SYNTH_POLLEN73S\\val\\labels... 397 images, 0 backgrounds, 0 corrupt:  44%|████▍     | 397/900 [00:31<00:04, 109.21it/s]\n",
            "\u001b[34m\u001b[1mval: \u001b[0mScanning E:\\Coding\\Pollen\\datasets\\SYNTH_POLLEN73S\\val\\labels... 437 images, 0 backgrounds, 0 corrupt:  49%|████▊     | 437/900 [00:31<00:03, 139.95it/s]\n",
            "\u001b[34m\u001b[1mval: \u001b[0mScanning E:\\Coding\\Pollen\\datasets\\SYNTH_POLLEN73S\\val\\labels... 477 images, 0 backgrounds, 0 corrupt:  53%|█████▎    | 477/900 [00:31<00:02, 174.17it/s]\n",
            "\u001b[34m\u001b[1mval: \u001b[0mScanning E:\\Coding\\Pollen\\datasets\\SYNTH_POLLEN73S\\val\\labels... 517 images, 0 backgrounds, 0 corrupt:  57%|█████▋    | 517/900 [00:31<00:01, 207.61it/s]\n",
            "\u001b[34m\u001b[1mval: \u001b[0mScanning E:\\Coding\\Pollen\\datasets\\SYNTH_POLLEN73S\\val\\labels... 561 images, 0 backgrounds, 0 corrupt:  62%|██████▏   | 561/900 [00:32<00:01, 248.72it/s]\n",
            "\u001b[34m\u001b[1mval: \u001b[0mScanning E:\\Coding\\Pollen\\datasets\\SYNTH_POLLEN73S\\val\\labels... 601 images, 0 backgrounds, 0 corrupt:  67%|██████▋   | 601/900 [00:32<00:01, 277.61it/s]\n",
            "\u001b[34m\u001b[1mval: \u001b[0mScanning E:\\Coding\\Pollen\\datasets\\SYNTH_POLLEN73S\\val\\labels... 641 images, 0 backgrounds, 0 corrupt:  71%|███████   | 641/900 [00:32<00:00, 291.10it/s]\n",
            "\u001b[34m\u001b[1mval: \u001b[0mScanning E:\\Coding\\Pollen\\datasets\\SYNTH_POLLEN73S\\val\\labels... 694 images, 0 backgrounds, 0 corrupt:  77%|███████▋  | 694/900 [00:32<00:00, 347.34it/s]\n",
            "\u001b[34m\u001b[1mval: \u001b[0mScanning E:\\Coding\\Pollen\\datasets\\SYNTH_POLLEN73S\\val\\labels... 737 images, 0 backgrounds, 0 corrupt:  82%|████████▏ | 737/900 [00:32<00:00, 359.11it/s]\n",
            "\u001b[34m\u001b[1mval: \u001b[0mScanning E:\\Coding\\Pollen\\datasets\\SYNTH_POLLEN73S\\val\\labels... 779 images, 0 backgrounds, 0 corrupt:  87%|████████▋ | 779/900 [00:32<00:00, 372.98it/s]\n",
            "\u001b[34m\u001b[1mval: \u001b[0mScanning E:\\Coding\\Pollen\\datasets\\SYNTH_POLLEN73S\\val\\labels... 826 images, 0 backgrounds, 0 corrupt:  92%|█████████▏| 826/900 [00:32<00:00, 388.66it/s]\n",
            "\u001b[34m\u001b[1mval: \u001b[0mScanning E:\\Coding\\Pollen\\datasets\\SYNTH_POLLEN73S\\val\\labels... 874 images, 0 backgrounds, 0 corrupt:  97%|█████████▋| 874/900 [00:32<00:00, 404.74it/s]\n",
            "\u001b[34m\u001b[1mval: \u001b[0mScanning E:\\Coding\\Pollen\\datasets\\SYNTH_POLLEN73S\\val\\labels... 900 images, 0 backgrounds, 0 corrupt: 100%|██████████| 900/900 [00:32<00:00, 27.36it/s] \n",
            "\u001b[34m\u001b[1mval: \u001b[0mNew cache created: E:\\Coding\\Pollen\\datasets\\SYNTH_POLLEN73S\\val\\labels.cache\n",
            "\n",
            "  0%|          | 0/900 [00:00<?, ?it/s]\n",
            "\u001b[34m\u001b[1mval: \u001b[0mCaching images (0.0GB ram):   2%|▏         | 17/900 [00:00<00:06, 146.47it/s]\n",
            "\u001b[34m\u001b[1mval: \u001b[0mCaching images (0.0GB ram):   5%|▌         | 49/900 [00:00<00:03, 225.99it/s]\n",
            "\u001b[34m\u001b[1mval: \u001b[0mCaching images (0.0GB ram):   8%|▊         | 75/900 [00:00<00:03, 226.94it/s]\n",
            "\u001b[34m\u001b[1mval: \u001b[0mCaching images (0.1GB ram):  11%|█         | 101/900 [00:00<00:03, 233.03it/s]\n",
            "\u001b[34m\u001b[1mval: \u001b[0mCaching images (0.1GB ram):  14%|█▍        | 129/900 [00:00<00:03, 247.99it/s]\n",
            "\u001b[34m\u001b[1mval: \u001b[0mCaching images (0.1GB ram):  18%|█▊        | 158/900 [00:00<00:02, 256.17it/s]\n",
            "\u001b[34m\u001b[1mval: \u001b[0mCaching images (0.1GB ram):  20%|██        | 184/900 [00:00<00:02, 248.83it/s]\n",
            "\u001b[34m\u001b[1mval: \u001b[0mCaching images (0.1GB ram):  24%|██▍       | 215/900 [00:00<00:02, 246.47it/s]\n",
            "\u001b[34m\u001b[1mval: \u001b[0mCaching images (0.2GB ram):  27%|██▋       | 247/900 [00:01<00:02, 260.69it/s]\n",
            "\u001b[34m\u001b[1mval: \u001b[0mCaching images (0.2GB ram):  30%|███       | 274/900 [00:01<00:02, 243.97it/s]\n",
            "\u001b[34m\u001b[1mval: \u001b[0mCaching images (0.2GB ram):  33%|███▎      | 299/900 [00:01<00:02, 236.58it/s]\n",
            "\u001b[34m\u001b[1mval: \u001b[0mCaching images (0.2GB ram):  36%|███▌      | 323/900 [00:01<00:02, 219.22it/s]\n",
            "\u001b[34m\u001b[1mval: \u001b[0mCaching images (0.2GB ram):  38%|███▊      | 346/900 [00:01<00:02, 203.48it/s]\n",
            "\u001b[34m\u001b[1mval: \u001b[0mCaching images (0.2GB ram):  41%|████      | 370/900 [00:01<00:02, 195.76it/s]\n",
            "\u001b[34m\u001b[1mval: \u001b[0mCaching images (0.3GB ram):  44%|████▍     | 396/900 [00:01<00:02, 210.92it/s]\n",
            "\u001b[34m\u001b[1mval: \u001b[0mCaching images (0.3GB ram):  47%|████▋     | 425/900 [00:01<00:02, 221.29it/s]\n",
            "\u001b[34m\u001b[1mval: \u001b[0mCaching images (0.3GB ram):  51%|█████     | 457/900 [00:01<00:01, 241.67it/s]\n",
            "\u001b[34m\u001b[1mval: \u001b[0mCaching images (0.3GB ram):  54%|█████▎    | 482/900 [00:02<00:01, 241.96it/s]\n",
            "\u001b[34m\u001b[1mval: \u001b[0mCaching images (0.3GB ram):  56%|█████▋    | 507/900 [00:02<00:01, 223.76it/s]\n",
            "\u001b[34m\u001b[1mval: \u001b[0mCaching images (0.3GB ram):  59%|█████▉    | 530/900 [00:02<00:01, 221.88it/s]\n",
            "\u001b[34m\u001b[1mval: \u001b[0mCaching images (0.4GB ram):  62%|██████▏   | 554/900 [00:02<00:01, 223.77it/s]\n",
            "\u001b[34m\u001b[1mval: \u001b[0mCaching images (0.4GB ram):  65%|██████▍   | 582/900 [00:02<00:01, 235.10it/s]\n",
            "\u001b[34m\u001b[1mval: \u001b[0mCaching images (0.4GB ram):  67%|██████▋   | 606/900 [00:02<00:01, 233.85it/s]\n",
            "\u001b[34m\u001b[1mval: \u001b[0mCaching images (0.4GB ram):  71%|███████   | 635/900 [00:02<00:01, 249.06it/s]\n",
            "\u001b[34m\u001b[1mval: \u001b[0mCaching images (0.4GB ram):  73%|███████▎  | 661/900 [00:02<00:01, 236.56it/s]\n",
            "\u001b[34m\u001b[1mval: \u001b[0mCaching images (0.4GB ram):  77%|███████▋  | 690/900 [00:02<00:00, 249.35it/s]\n",
            "\u001b[34m\u001b[1mval: \u001b[0mCaching images (0.5GB ram):  80%|███████▉  | 718/900 [00:03<00:00, 256.56it/s]\n",
            "\u001b[34m\u001b[1mval: \u001b[0mCaching images (0.5GB ram):  83%|████████▎ | 744/900 [00:03<00:00, 229.30it/s]\n",
            "\u001b[34m\u001b[1mval: \u001b[0mCaching images (0.5GB ram):  85%|████████▌ | 768/900 [00:03<00:00, 221.50it/s]\n",
            "\u001b[34m\u001b[1mval: \u001b[0mCaching images (0.5GB ram):  88%|████████▊ | 792/900 [00:03<00:00, 207.33it/s]\n",
            "\u001b[34m\u001b[1mval: \u001b[0mCaching images (0.5GB ram):  91%|█████████ | 816/900 [00:03<00:00, 214.12it/s]\n",
            "\u001b[34m\u001b[1mval: \u001b[0mCaching images (0.5GB ram):  94%|█████████▍| 848/900 [00:03<00:00, 225.27it/s]\n",
            "\u001b[34m\u001b[1mval: \u001b[0mCaching images (0.6GB ram):  97%|█████████▋| 873/900 [00:03<00:00, 228.76it/s]\n",
            "\u001b[34m\u001b[1mval: \u001b[0mCaching images (0.6GB ram): 100%|██████████| 900/900 [00:03<00:00, 239.24it/s]\n",
            "\u001b[34m\u001b[1mval: \u001b[0mCaching images (0.6GB ram): 100%|██████████| 900/900 [00:03<00:00, 231.04it/s]\n",
            "WARNING:tensorflow:From c:\\Users\\horva\\.conda\\envs\\Pollen\\lib\\site-packages\\keras\\src\\losses.py:2976: The name tf.losses.sparse_softmax_cross_entropy is deprecated. Please use tf.compat.v1.losses.sparse_softmax_cross_entropy instead.\n",
            "\n",
            "WARNING:tensorflow:From c:\\Users\\horva\\.conda\\envs\\Pollen\\lib\\site-packages\\keras\\src\\losses.py:2976: The name tf.losses.sparse_softmax_cross_entropy is deprecated. Please use tf.compat.v1.losses.sparse_softmax_cross_entropy instead.\n",
            "\n",
            "WARNING:tensorflow:From c:\\Users\\horva\\.conda\\envs\\Pollen\\lib\\site-packages\\keras\\src\\losses.py:2976: The name tf.losses.sparse_softmax_cross_entropy is deprecated. Please use tf.compat.v1.losses.sparse_softmax_cross_entropy instead.\n",
            "\n",
            "WARNING:tensorflow:From c:\\Users\\horva\\.conda\\envs\\Pollen\\lib\\site-packages\\keras\\src\\losses.py:2976: The name tf.losses.sparse_softmax_cross_entropy is deprecated. Please use tf.compat.v1.losses.sparse_softmax_cross_entropy instead.\n",
            "\n",
            "WARNING:tensorflow:From c:\\Users\\horva\\.conda\\envs\\Pollen\\lib\\site-packages\\keras\\src\\losses.py:2976: The name tf.losses.sparse_softmax_cross_entropy is deprecated. Please use tf.compat.v1.losses.sparse_softmax_cross_entropy instead.\n",
            "\n",
            "WARNING:tensorflow:From c:\\Users\\horva\\.conda\\envs\\Pollen\\lib\\site-packages\\keras\\src\\losses.py:2976: The name tf.losses.sparse_softmax_cross_entropy is deprecated. Please use tf.compat.v1.losses.sparse_softmax_cross_entropy instead.\n",
            "\n",
            "WARNING:tensorflow:From c:\\Users\\horva\\.conda\\envs\\Pollen\\lib\\site-packages\\keras\\src\\losses.py:2976: The name tf.losses.sparse_softmax_cross_entropy is deprecated. Please use tf.compat.v1.losses.sparse_softmax_cross_entropy instead.\n",
            "\n",
            "WARNING:tensorflow:From c:\\Users\\horva\\.conda\\envs\\Pollen\\lib\\site-packages\\keras\\src\\losses.py:2976: The name tf.losses.sparse_softmax_cross_entropy is deprecated. Please use tf.compat.v1.losses.sparse_softmax_cross_entropy instead.\n",
            "\n",
            "WARNING:tensorflow:From c:\\Users\\horva\\.conda\\envs\\Pollen\\lib\\site-packages\\keras\\src\\losses.py:2976: The name tf.losses.sparse_softmax_cross_entropy is deprecated. Please use tf.compat.v1.losses.sparse_softmax_cross_entropy instead.\n",
            "\n",
            "WARNING:tensorflow:From c:\\Users\\horva\\.conda\\envs\\Pollen\\lib\\site-packages\\keras\\src\\losses.py:2976: The name tf.losses.sparse_softmax_cross_entropy is deprecated. Please use tf.compat.v1.losses.sparse_softmax_cross_entropy instead.\n",
            "\n",
            "WARNING:tensorflow:From c:\\Users\\horva\\.conda\\envs\\Pollen\\lib\\site-packages\\keras\\src\\losses.py:2976: The name tf.losses.sparse_softmax_cross_entropy is deprecated. Please use tf.compat.v1.losses.sparse_softmax_cross_entropy instead.\n",
            "\n",
            "WARNING:tensorflow:From c:\\Users\\horva\\.conda\\envs\\Pollen\\lib\\site-packages\\keras\\src\\losses.py:2976: The name tf.losses.sparse_softmax_cross_entropy is deprecated. Please use tf.compat.v1.losses.sparse_softmax_cross_entropy instead.\n",
            "\n",
            "WARNING:tensorflow:From c:\\Users\\horva\\.conda\\envs\\Pollen\\lib\\site-packages\\keras\\src\\losses.py:2976: The name tf.losses.sparse_softmax_cross_entropy is deprecated. Please use tf.compat.v1.losses.sparse_softmax_cross_entropy instead.\n",
            "\n",
            "WARNING:tensorflow:From c:\\Users\\horva\\.conda\\envs\\Pollen\\lib\\site-packages\\keras\\src\\losses.py:2976: The name tf.losses.sparse_softmax_cross_entropy is deprecated. Please use tf.compat.v1.losses.sparse_softmax_cross_entropy instead.\n",
            "\n",
            "WARNING:tensorflow:From c:\\Users\\horva\\.conda\\envs\\Pollen\\lib\\site-packages\\keras\\src\\losses.py:2976: The name tf.losses.sparse_softmax_cross_entropy is deprecated. Please use tf.compat.v1.losses.sparse_softmax_cross_entropy instead.\n",
            "\n",
            "WARNING:tensorflow:From c:\\Users\\horva\\.conda\\envs\\Pollen\\lib\\site-packages\\keras\\src\\losses.py:2976: The name tf.losses.sparse_softmax_cross_entropy is deprecated. Please use tf.compat.v1.losses.sparse_softmax_cross_entropy instead.\n",
            "\n",
            "\n",
            "\u001b[34m\u001b[1mAutoAnchor: \u001b[0m4.87 anchors/target, 1.000 Best Possible Recall (BPR). Current anchors are a good fit to dataset \n",
            "Plotting labels to runs\\train\\exp\\labels.jpg... \n",
            "Image sizes 640 train, 640 val\n",
            "Using 8 dataloader workers\n",
            "Logging results to \u001b[1mruns\\train\\exp\u001b[0m\n",
            "Starting training for 3 epochs...\n",
            "\n",
            "      Epoch    GPU_mem   box_loss   obj_loss   cls_loss  Instances       Size\n",
            "\n",
            "  0%|          | 0/57 [00:00<?, ?it/s]\n",
            "  0%|          | 0/57 [00:03<?, ?it/s]\n",
            "Traceback (most recent call last):\n",
            "  File \"e:\\Coding\\Pollen\\yolov5\\train.py\", line 848, in <module>\n",
            "    main(opt)\n",
            "  File \"e:\\Coding\\Pollen\\yolov5\\train.py\", line 623, in main\n",
            "    train(opt.hyp, opt, device, callbacks)\n",
            "  File \"e:\\Coding\\Pollen\\yolov5\\train.py\", line 382, in train\n",
            "    pred = model(imgs)  # forward\n",
            "  File \"c:\\Users\\horva\\.conda\\envs\\Pollen\\lib\\site-packages\\torch\\nn\\modules\\module.py\", line 1518, in _wrapped_call_impl\n",
            "    return self._call_impl(*args, **kwargs)\n",
            "  File \"c:\\Users\\horva\\.conda\\envs\\Pollen\\lib\\site-packages\\torch\\nn\\modules\\module.py\", line 1527, in _call_impl\n",
            "    return forward_call(*args, **kwargs)\n",
            "  File \"e:\\Coding\\Pollen\\yolov5\\models\\yolo.py\", line 263, in forward\n",
            "    return self._forward_once(x, profile, visualize)  # single-scale inference, train\n",
            "  File \"e:\\Coding\\Pollen\\yolov5\\models\\yolo.py\", line 167, in _forward_once\n",
            "    x = m(x)  # run\n",
            "  File \"c:\\Users\\horva\\.conda\\envs\\Pollen\\lib\\site-packages\\torch\\nn\\modules\\module.py\", line 1518, in _wrapped_call_impl\n",
            "    return self._call_impl(*args, **kwargs)\n",
            "  File \"c:\\Users\\horva\\.conda\\envs\\Pollen\\lib\\site-packages\\torch\\nn\\modules\\module.py\", line 1527, in _call_impl\n",
            "    return forward_call(*args, **kwargs)\n",
            "  File \"e:\\Coding\\Pollen\\yolov5\\models\\common.py\", line 238, in forward\n",
            "    return self.cv3(torch.cat((self.m(self.cv1(x)), self.cv2(x)), 1))\n",
            "  File \"c:\\Users\\horva\\.conda\\envs\\Pollen\\lib\\site-packages\\torch\\nn\\modules\\module.py\", line 1518, in _wrapped_call_impl\n",
            "    return self._call_impl(*args, **kwargs)\n",
            "  File \"c:\\Users\\horva\\.conda\\envs\\Pollen\\lib\\site-packages\\torch\\nn\\modules\\module.py\", line 1527, in _call_impl\n",
            "    return forward_call(*args, **kwargs)\n",
            "  File \"e:\\Coding\\Pollen\\yolov5\\models\\common.py\", line 86, in forward\n",
            "    return self.act(self.bn(self.conv(x)))\n",
            "  File \"c:\\Users\\horva\\.conda\\envs\\Pollen\\lib\\site-packages\\torch\\nn\\modules\\module.py\", line 1518, in _wrapped_call_impl\n",
            "    return self._call_impl(*args, **kwargs)\n",
            "  File \"c:\\Users\\horva\\.conda\\envs\\Pollen\\lib\\site-packages\\torch\\nn\\modules\\module.py\", line 1527, in _call_impl\n",
            "    return forward_call(*args, **kwargs)\n",
            "  File \"c:\\Users\\horva\\.conda\\envs\\Pollen\\lib\\site-packages\\torch\\nn\\modules\\conv.py\", line 460, in forward\n",
            "    return self._conv_forward(input, self.weight, self.bias)\n",
            "  File \"c:\\Users\\horva\\.conda\\envs\\Pollen\\lib\\site-packages\\torch\\nn\\modules\\conv.py\", line 456, in _conv_forward\n",
            "    return F.conv2d(input, weight, bias, self.stride,\n",
            "torch.cuda.OutOfMemoryError: CUDA out of memory. Tried to allocate 26.00 MiB. GPU 0 has a total capacty of 6.00 GiB of which 2.71 GiB is free. Of the allocated memory 2.17 GiB is allocated by PyTorch, and 79.91 MiB is reserved by PyTorch but unallocated. If reserved but unallocated memory is large try setting max_split_size_mb to avoid fragmentation.  See documentation for Memory Management and PYTORCH_CUDA_ALLOC_CONF\n"
          ]
        }
      ],
      "source": [
        "# Train YOLOv5s on COCO128 for 3 epochs\n",
        "!python train.py --img 640 --batch 16 --epochs 3 --data E:/Coding/Pollen/datasets/SYNTH_POLLEN73S/pollen_dataset.yaml --weights yolov5s.pt --cache"
      ]
    },
    {
      "cell_type": "markdown",
      "metadata": {
        "id": "15glLzbQx5u0"
      },
      "source": [
        "# 4. Visualize"
      ]
    },
    {
      "cell_type": "markdown",
      "metadata": {
        "id": "nWOsI5wJR1o3"
      },
      "source": [
        "## Comet Logging and Visualization 🌟 NEW\n",
        "\n",
        "[Comet](https://www.comet.com/site/lp/yolov5-with-comet/?utm_source=yolov5&utm_medium=partner&utm_campaign=partner_yolov5_2022&utm_content=yolov5_colab) is now fully integrated with YOLOv5. Track and visualize model metrics in real time, save your hyperparameters, datasets, and model checkpoints, and visualize your model predictions with [Comet Custom Panels](https://www.comet.com/docs/v2/guides/comet-dashboard/code-panels/about-panels/?utm_source=yolov5&utm_medium=partner&utm_campaign=partner_yolov5_2022&utm_content=yolov5_colab)! Comet makes sure you never lose track of your work and makes it easy to share results and collaborate across teams of all sizes!\n",
        "\n",
        "Getting started is easy:\n",
        "```shell\n",
        "pip install comet_ml  # 1. install\n",
        "export COMET_API_KEY=<Your API Key>  # 2. paste API key\n",
        "python train.py --img 640 --epochs 3 --data coco128.yaml --weights yolov5s.pt  # 3. train\n",
        "```\n",
        "To learn more about all of the supported Comet features for this integration, check out the [Comet Tutorial](https://docs.ultralytics.com/yolov5/tutorials/comet_logging_integration). If you'd like to learn more about Comet, head over to our [documentation](https://www.comet.com/docs/v2/?utm_source=yolov5&utm_medium=partner&utm_campaign=partner_yolov5_2022&utm_content=yolov5_colab). Get started by trying out the Comet Colab Notebook:\n",
        "[![Open In Colab](https://colab.research.google.com/assets/colab-badge.svg)](https://colab.research.google.com/drive/1RG0WOQyxlDlo5Km8GogJpIEJlg_5lyYO?usp=sharing)\n",
        "\n",
        "<a href=\"https://bit.ly/yolov5-readme-comet2\">\n",
        "<img alt=\"Comet Dashboard\" src=\"https://user-images.githubusercontent.com/26833433/202851203-164e94e1-2238-46dd-91f8-de020e9d6b41.png\" width=\"1280\"/></a>"
      ]
    },
    {
      "cell_type": "markdown",
      "metadata": {
        "id": "Lay2WsTjNJzP"
      },
      "source": [
        "## ClearML Logging and Automation 🌟 NEW\n",
        "\n",
        "[ClearML](https://cutt.ly/yolov5-notebook-clearml) is completely integrated into YOLOv5 to track your experimentation, manage dataset versions and even remotely execute training runs. To enable ClearML (check cells above):\n",
        "\n",
        "- `pip install clearml`\n",
        "- run `clearml-init` to connect to a ClearML server (**deploy your own [open-source server](https://github.com/allegroai/clearml-server)**, or use our [free hosted server](https://cutt.ly/yolov5-notebook-clearml))\n",
        "\n",
        "You'll get all the great expected features from an experiment manager: live updates, model upload, experiment comparison etc. but ClearML also tracks uncommitted changes and installed packages for example. Thanks to that ClearML Tasks (which is what we call experiments) are also reproducible on different machines! With only 1 extra line, we can schedule a YOLOv5 training task on a queue to be executed by any number of ClearML Agents (workers).\n",
        "\n",
        "You can use ClearML Data to version your dataset and then pass it to YOLOv5 simply using its unique ID. This will help you keep track of your data without adding extra hassle. Explore the [ClearML Tutorial](https://docs.ultralytics.com/yolov5/tutorials/clearml_logging_integration) for details!\n",
        "\n",
        "<a href=\"https://cutt.ly/yolov5-notebook-clearml\">\n",
        "<img alt=\"ClearML Experiment Management UI\" src=\"https://github.com/thepycoder/clearml_screenshots/raw/main/scalars.jpg\" width=\"1280\"/></a>"
      ]
    },
    {
      "cell_type": "markdown",
      "metadata": {
        "id": "-WPvRbS5Swl6"
      },
      "source": [
        "## Local Logging\n",
        "\n",
        "Training results are automatically logged with [Tensorboard](https://www.tensorflow.org/tensorboard) and [CSV](https://github.com/ultralytics/yolov5/pull/4148) loggers to `runs/train`, with a new experiment directory created for each new training as `runs/train/exp2`, `runs/train/exp3`, etc.\n",
        "\n",
        "This directory contains train and val statistics, mosaics, labels, predictions and augmentated mosaics, as well as metrics and charts including precision-recall (PR) curves and confusion matrices.\n",
        "\n",
        "<img alt=\"Local logging results\" src=\"https://user-images.githubusercontent.com/26833433/183222430-e1abd1b7-782c-4cde-b04d-ad52926bf818.jpg\" width=\"1280\"/>\n"
      ]
    },
    {
      "cell_type": "markdown",
      "metadata": {
        "id": "Zelyeqbyt3GD"
      },
      "source": [
        "# Environments\n",
        "\n",
        "YOLOv5 may be run in any of the following up-to-date verified environments (with all dependencies including [CUDA](https://developer.nvidia.com/cuda)/[CUDNN](https://developer.nvidia.com/cudnn), [Python](https://www.python.org/) and [PyTorch](https://pytorch.org/) preinstalled):\n",
        "\n",
        "- **Notebooks** with free GPU: <a href=\"https://bit.ly/yolov5-paperspace-notebook\"><img src=\"https://assets.paperspace.io/img/gradient-badge.svg\" alt=\"Run on Gradient\"></a> <a href=\"https://colab.research.google.com/github/ultralytics/yolov5/blob/master/tutorial.ipynb\"><img src=\"https://colab.research.google.com/assets/colab-badge.svg\" alt=\"Open In Colab\"></a> <a href=\"https://www.kaggle.com/ultralytics/yolov5\"><img src=\"https://kaggle.com/static/images/open-in-kaggle.svg\" alt=\"Open In Kaggle\"></a>\n",
        "- **Google Cloud** Deep Learning VM. See [GCP Quickstart Guide](https://docs.ultralytics.com/yolov5/environments/google_cloud_quickstart_tutorial/)\n",
        "- **Amazon** Deep Learning AMI. See [AWS Quickstart Guide](https://docs.ultralytics.com/yolov5/environments/aws_quickstart_tutorial/)\n",
        "- **Docker Image**. See [Docker Quickstart Guide](https://docs.ultralytics.com/yolov5/environments/docker_image_quickstart_tutorial/) <a href=\"https://hub.docker.com/r/ultralytics/yolov5\"><img src=\"https://img.shields.io/docker/pulls/ultralytics/yolov5?logo=docker\" alt=\"Docker Pulls\"></a>\n"
      ]
    },
    {
      "cell_type": "markdown",
      "metadata": {
        "id": "6Qu7Iesl0p54"
      },
      "source": [
        "# Status\n",
        "\n",
        "![YOLOv5 CI](https://github.com/ultralytics/yolov5/actions/workflows/ci-testing.yml/badge.svg)\n",
        "\n",
        "If this badge is green, all [YOLOv5 GitHub Actions](https://github.com/ultralytics/yolov5/actions) Continuous Integration (CI) tests are currently passing. CI tests verify correct operation of YOLOv5 training ([train.py](https://github.com/ultralytics/yolov5/blob/master/train.py)), testing ([val.py](https://github.com/ultralytics/yolov5/blob/master/val.py)), inference ([detect.py](https://github.com/ultralytics/yolov5/blob/master/detect.py)) and export ([export.py](https://github.com/ultralytics/yolov5/blob/master/export.py)) on macOS, Windows, and Ubuntu every 24 hours and on every commit.\n"
      ]
    },
    {
      "cell_type": "markdown",
      "metadata": {
        "id": "IEijrePND_2I"
      },
      "source": [
        "# Appendix\n",
        "\n",
        "Additional content below."
      ]
    },
    {
      "cell_type": "code",
      "execution_count": null,
      "metadata": {
        "id": "GMusP4OAxFu6"
      },
      "outputs": [],
      "source": [
        "# YOLOv5 PyTorch HUB Inference (DetectionModels only)\n",
        "import torch\n",
        "\n",
        "model = torch.hub.load('ultralytics/yolov5', 'yolov5s', force_reload=True, trust_repo=True)  # or yolov5n - yolov5x6 or custom\n",
        "im = 'https://ultralytics.com/images/zidane.jpg'  # file, Path, PIL.Image, OpenCV, nparray, list\n",
        "results = model(im)  # inference\n",
        "results.print()  # or .show(), .save(), .crop(), .pandas(), etc."
      ]
    }
  ],
  "metadata": {
    "accelerator": "GPU",
    "colab": {
      "name": "YOLOv5 Tutorial",
      "provenance": []
    },
    "kernelspec": {
      "display_name": "Python 3",
      "name": "python3"
    },
    "language_info": {
      "codemirror_mode": {
        "name": "ipython",
        "version": 3
      },
      "file_extension": ".py",
      "mimetype": "text/x-python",
      "name": "python",
      "nbconvert_exporter": "python",
      "pygments_lexer": "ipython3",
      "version": "3.10.13"
    }
  },
  "nbformat": 4,
  "nbformat_minor": 0
}
